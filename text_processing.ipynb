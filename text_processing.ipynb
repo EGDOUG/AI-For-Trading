{
 "cells": [
  {
   "cell_type": "markdown",
   "metadata": {},
   "source": [
    "# Text Processing\n",
    "\n",
    "## Capturing Text Data\n",
    "\n",
    "### Plain Text"
   ]
  },
  {
   "cell_type": "code",
   "execution_count": 1,
   "metadata": {},
   "outputs": [
    {
     "name": "stdout",
     "output_type": "stream",
     "text": [
      "Hieroglyphic writing dates from c. 3000 BC, and is composed of hundreds of symbols. A hieroglyph can represent a word, a sound, or a silent determinative; and the same symbol can serve different purposes in different contexts. Hieroglyphs were a formal script, used on stone monuments and in tombs, that could be as detailed as individual works of art.\n",
      "\n"
     ]
    }
   ],
   "source": [
    "import os\n",
    "\n",
    "# Read in a plain text file\n",
    "with open(os.path.join(\"data\", \"hieroglyph.txt\"), \"r\") as f:\n",
    "    text = f.read()\n",
    "    print(text)"
   ]
  },
  {
   "cell_type": "markdown",
   "metadata": {},
   "source": [
    "### Tabular Data"
   ]
  },
  {
   "cell_type": "code",
   "execution_count": 2,
   "metadata": {
    "scrolled": true
   },
   "outputs": [
    {
     "data": {
      "text/html": [
       "<div>\n",
       "<style>\n",
       "    .dataframe thead tr:only-child th {\n",
       "        text-align: right;\n",
       "    }\n",
       "\n",
       "    .dataframe thead th {\n",
       "        text-align: left;\n",
       "    }\n",
       "\n",
       "    .dataframe tbody tr th {\n",
       "        vertical-align: top;\n",
       "    }\n",
       "</style>\n",
       "<table border=\"1\" class=\"dataframe\">\n",
       "  <thead>\n",
       "    <tr style=\"text-align: right;\">\n",
       "      <th></th>\n",
       "      <th>publisher</th>\n",
       "      <th>title</th>\n",
       "    </tr>\n",
       "  </thead>\n",
       "  <tbody>\n",
       "    <tr>\n",
       "      <th>0</th>\n",
       "      <td>Livemint</td>\n",
       "      <td>fed's charles plosser sees high bar for change...</td>\n",
       "    </tr>\n",
       "    <tr>\n",
       "      <th>1</th>\n",
       "      <td>IFA Magazine</td>\n",
       "      <td>us open: stocks fall after fed official hints ...</td>\n",
       "    </tr>\n",
       "    <tr>\n",
       "      <th>2</th>\n",
       "      <td>IFA Magazine</td>\n",
       "      <td>fed risks falling 'behind the curve', charles ...</td>\n",
       "    </tr>\n",
       "    <tr>\n",
       "      <th>3</th>\n",
       "      <td>Moneynews</td>\n",
       "      <td>fed's plosser: nasty weather has curbed job gr...</td>\n",
       "    </tr>\n",
       "    <tr>\n",
       "      <th>4</th>\n",
       "      <td>NASDAQ</td>\n",
       "      <td>plosser: fed may have to accelerate tapering pace</td>\n",
       "    </tr>\n",
       "  </tbody>\n",
       "</table>\n",
       "</div>"
      ],
      "text/plain": [
       "      publisher                                              title\n",
       "0      Livemint  fed's charles plosser sees high bar for change...\n",
       "1  IFA Magazine  us open: stocks fall after fed official hints ...\n",
       "2  IFA Magazine  fed risks falling 'behind the curve', charles ...\n",
       "3     Moneynews  fed's plosser: nasty weather has curbed job gr...\n",
       "4        NASDAQ  plosser: fed may have to accelerate tapering pace"
      ]
     },
     "execution_count": 2,
     "metadata": {},
     "output_type": "execute_result"
    }
   ],
   "source": [
    "import pandas as pd\n",
    "\n",
    "# Extract text column from a dataframe\n",
    "df = pd.read_csv(os.path.join(\"data\", \"news.csv\"))\n",
    "df.head()[['publisher', 'title']]\n",
    "\n",
    "# Convert text column to lowercase\n",
    "df['title'] = df['title'].str.lower()\n",
    "df.head()[['publisher', 'title']]"
   ]
  },
  {
   "cell_type": "markdown",
   "metadata": {},
   "source": [
    "### Online Resource"
   ]
  },
  {
   "cell_type": "code",
   "execution_count": 7,
   "metadata": {
    "scrolled": true
   },
   "outputs": [
    {
     "name": "stdout",
     "output_type": "stream",
     "text": [
      "{\n",
      "    \"success\": {\n",
      "        \"total\": 1\n",
      "    },\n",
      "    \"contents\": {\n",
      "        \"quotes\": [\n",
      "            {\n",
      "                \"quote\": \"The things you learn in maturity aren\\u2019t simple things such as acquiring information and skills. You learn not to engage in self-destructive behavior. You learn not to burn up energy in anxiety. You discover how to manage your tensions. You learn that self-pity and resentment are among the most toxic of drugs. You find that the world loves talent but pays off on character.\",\n",
      "                \"author\": \"John Gardner\",\n",
      "                \"length\": \"381\",\n",
      "                \"tags\": [\n",
      "                    \"character\",\n",
      "                    \"inspire\",\n",
      "                    \"maturity\",\n",
      "                    \"tso-life\",\n",
      "                    \"tso-management\"\n",
      "                ],\n",
      "                \"category\": \"inspire\",\n",
      "                \"title\": \"Inspiring Quote of the day\",\n",
      "                \"date\": \"2019-01-22\",\n",
      "                \"id\": null\n",
      "            }\n",
      "        ],\n",
      "        \"copyright\": \"2017-19 theysaidso.com\"\n",
      "    }\n",
      "}\n",
      "The things you learn in maturity aren’t simple things such as acquiring information and skills. You learn not to engage in self-destructive behavior. You learn not to burn up energy in anxiety. You discover how to manage your tensions. You learn that self-pity and resentment are among the most toxic of drugs. You find that the world loves talent but pays off on character. \n",
      "-- John Gardner\n"
     ]
    }
   ],
   "source": [
    "import requests\n",
    "import json\n",
    "\n",
    "# Fetch data from a REST API\n",
    "r = requests.get(\n",
    "    \"https://quotes.rest/qod.json\")\n",
    "res = r.json()\n",
    "print(json.dumps(res, indent=4))\n",
    "\n",
    "# Extract relevant object and field\n",
    "q = res[\"contents\"][\"quotes\"][0]\n",
    "print(q[\"quote\"], \"\\n--\", q[\"author\"])"
   ]
  },
  {
   "cell_type": "markdown",
   "metadata": {},
   "source": [
    "## Cleaning"
   ]
  },
  {
   "cell_type": "code",
   "execution_count": 8,
   "metadata": {
    "scrolled": true
   },
   "outputs": [
    {
     "name": "stdout",
     "output_type": "stream",
     "text": [
      "<html op=\"news\"><head><meta name=\"referrer\" content=\"origin\"><meta name=\"viewport\" content=\"width=device-width, initial-scale=1.0\"><link rel=\"stylesheet\" type=\"text/css\" href=\"news.css?QbgBhXbKMX6bgtjM6c6C\">\n",
      "            <link rel=\"shortcut icon\" href=\"favicon.ico\">\n",
      "          <link rel=\"alternate\" type=\"application/rss+xml\" title=\"RSS\" href=\"rss\">\n",
      "        <title>Hacker News</title></head><body><center><table id=\"hnmain\" border=\"0\" cellpadding=\"0\" cellspacing=\"0\" width=\"85%\" bgcolor=\"#f6f6ef\">\n",
      "        <tr><td bgcolor=\"#ff6600\"><table border=\"0\" cellpadding=\"0\" cellspacing=\"0\" width=\"100%\" style=\"padding:2px\"><tr><td style=\"width:18px;padding-right:4px\"><a href=\"https://news.ycombinator.com\"><img src=\"y18.gif\" width=\"18\" height=\"18\" style=\"border:1px white solid;\"></a></td>\n",
      "                  <td style=\"line-height:12pt; height:10px;\"><span class=\"pagetop\"><b class=\"hnname\"><a href=\"news\">Hacker News</a></b>\n",
      "              <a href=\"newest\">new</a> | <a href=\"newcomments\">comments</a> | <a href=\"ask\">ask</a> | <a href=\"show\">show</a> | <a href=\"jobs\">jobs</a> | <a href=\"submit\">submit</a>            </span></td><td style=\"text-align:right;padding-right:4px;\"><span class=\"pagetop\">\n",
      "                              <a href=\"login?goto=news\">login</a>\n",
      "                          </span></td>\n",
      "              </tr></table></td></tr>\n",
      "<tr id=\"pagespace\" title=\"\" style=\"height:10px\"></tr><tr><td><table border=\"0\" cellpadding=\"0\" cellspacing=\"0\" class=\"itemlist\">\n",
      "              <tr class='athing' id='18965274'>\n",
      "      <td align=\"right\" valign=\"top\" class=\"title\"><span class=\"rank\">1.</span></td>      <td valign=\"top\" class=\"votelinks\"><center><a id='up_18965274' href='vote?id=18965274&amp;how=up&amp;goto=news'><div class='votearrow' title='upvote'></div></a></center></td><td class=\"title\"><a href=\"https://www.hillelwayne.com/post/why-dont-people-use-formal-methods/\" class=\"storylink\">Why Don't People Use Formal Methods?</a><span class=\"sitebit comhead\"> (<a href=\"from?site=hillelwayne.com\"><span class=\"sitestr\">hillelwayne.com</span></a>)</span></td></tr><tr><td colspan=\"2\"></td><td class=\"subtext\">\n",
      "        <span class=\"score\" id=\"score_18965274\">225 points</span> by <a href=\"user?id=pplonski86\" class=\"hnuser\">pplonski86</a> <span class=\"age\"><a href=\"item?id=18965274\">7 hours ago</a></span> <span id=\"unv_18965274\"></span> | <a href=\"hide?id=18965274&amp;goto=news\">hide</a> | <a href=\"item?id=18965274\">119&nbsp;comments</a>              </td></tr>\n",
      "      <tr class=\"spacer\" style=\"height:5px\"></tr>\n",
      "                <tr class='athing' id='18966742'>\n",
      "      <td align=\"right\" valign=\"top\" class=\"title\"><span class=\"rank\">2.</span></td>      <td valign=\"top\" class=\"votelinks\"><center><a id='up_18966742' href='vote?id=18966742&amp;how=up&amp;goto=news'><div class='votearrow' title='upvote'></div></a></center></td><td class=\"title\"><a href=\"https://www.healthfoodis.com/2019/01/researchers-have-identified-virus-that.html\" class=\"storylink\">Researchers Have Identified a Virus That Attacks Human Cancer Cells</a><span class=\"sitebit comhead\"> (<a href=\"from?site=healthfoodis.com\"><span class=\"sitestr\">healthfoodis.com</span></a>)</span></td></tr><tr><td colspan=\"2\"></td><td class=\"subtext\">\n",
      "        <span class=\"score\" id=\"score_18966742\">14 points</span> by <a href=\"user?id=known\" class=\"hnuser\">known</a> <span class=\"age\"><a href=\"item?id=18966742\">1 hour ago</a></span> <span id=\"unv_18966742\"></span> | <a href=\"hide?id=18966742&amp;goto=news\">hide</a> | <a href=\"item?id=18966742\">6&nbsp;comments</a>              </td></tr>\n",
      "      <tr class=\"spacer\" style=\"height:5px\"></tr>\n",
      "                <tr class='athing' id='18965729'>\n",
      "      <td align=\"right\" valign=\"top\" class=\"title\"><span class=\"rank\">3.</span></td>      <td valign=\"top\" class=\"votelinks\"><center><a id='up_18965729' href='vote?id=18965729&amp;how=up&amp;goto=news'><div class='votearrow' title='upvote'></div></a></center></td><td class=\"title\"><a href=\"https://addons.mozilla.org/en-US/firefox/addon/2read/\" class=\"storylink\">Show HN: Convert article in current tab to readable form and upload it to IPFS</a><span class=\"sitebit comhead\"> (<a href=\"from?site=addons.mozilla.org\"><span class=\"sitestr\">addons.mozilla.org</span></a>)</span></td></tr><tr><td colspan=\"2\"></td><td class=\"subtext\">\n",
      "        <span class=\"score\" id=\"score_18965729\">95 points</span> by <a href=\"user?id=meehow\" class=\"hnuser\">meehow</a> <span class=\"age\"><a href=\"item?id=18965729\">5 hours ago</a></span> <span id=\"unv_18965729\"></span> | <a href=\"hide?id=18965729&amp;goto=news\">hide</a> | <a href=\"item?id=18965729\">21&nbsp;comments</a>              </td></tr>\n",
      "      <tr class=\"spacer\" style=\"height:5px\"></tr>\n",
      "                <tr class='athing' id='18961817'>\n",
      "      <td align=\"right\" valign=\"top\" class=\"title\"><span class=\"rank\">4.</span></td>      <td valign=\"top\" class=\"votelinks\"><center><a id='up_18961817' href='vote?id=18961817&amp;how=up&amp;goto=news'><div class='votearrow' title='upvote'></div></a></center></td><td class=\"title\"><a href=\"https://www.washingtonpost.com/outlook/hemingways-world-war-i-savior-is-anonymous-no-more/2019/01/18/d3dbbb32-0ea0-11e9-831f-3aa2c2be4cbd_story.html\" class=\"storylink\">Hemingway’s World War I savior is anonymous no more</a><span class=\"sitebit comhead\"> (<a href=\"from?site=washingtonpost.com\"><span class=\"sitestr\">washingtonpost.com</span></a>)</span></td></tr><tr><td colspan=\"2\"></td><td class=\"subtext\">\n",
      "        <span class=\"score\" id=\"score_18961817\">41 points</span> by <a href=\"user?id=longdefeat\" class=\"hnuser\">longdefeat</a> <span class=\"age\"><a href=\"item?id=18961817\">4 hours ago</a></span> <span id=\"unv_18961817\"></span> | <a href=\"hide?id=18961817&amp;goto=news\">hide</a> | <a href=\"item?id=18961817\">9&nbsp;comments</a>              </td></tr>\n",
      "      <tr class=\"spacer\" style=\"height:5px\"></tr>\n",
      "                <tr class='athing' id='18958747'>\n",
      "      <td align=\"right\" valign=\"top\" class=\"title\"><span class=\"rank\">5.</span></td>      <td valign=\"top\" class=\"votelinks\"><center><a id='up_18958747' href='vote?id=18958747&amp;how=up&amp;goto=news'><div class='votearrow' title='upvote'></div></a></center></td><td class=\"title\"><a href=\"https://www.didierboelens.com/2019/01/futures---isolates---event-loop/\" class=\"storylink\">Flutter: Futures, Isolates, Event Loop</a><span class=\"sitebit comhead\"> (<a href=\"from?site=didierboelens.com\"><span class=\"sitestr\">didierboelens.com</span></a>)</span></td></tr><tr><td colspan=\"2\"></td><td class=\"subtext\">\n",
      "        <span class=\"score\" id=\"score_18958747\">99 points</span> by <a href=\"user?id=yannikyeo\" class=\"hnuser\">yannikyeo</a> <span class=\"age\"><a href=\"item?id=18958747\">6 hours ago</a></span> <span id=\"unv_18958747\"></span> | <a href=\"hide?id=18958747&amp;goto=news\">hide</a> | <a href=\"item?id=18958747\">14&nbsp;comments</a>              </td></tr>\n",
      "      <tr class=\"spacer\" style=\"height:5px\"></tr>\n",
      "                <tr class='athing' id='18959357'>\n",
      "      <td align=\"right\" valign=\"top\" class=\"title\"><span class=\"rank\">6.</span></td>      <td valign=\"top\" class=\"votelinks\"><center><a id='up_18959357' href='vote?id=18959357&amp;how=up&amp;goto=news'><div class='votearrow' title='upvote'></div></a></center></td><td class=\"title\"><a href=\"https://www.analogictips.com/analog-computation-part-1-what-and-why/\" class=\"storylink\">Analog computation, Part 1: What and why</a><span class=\"sitebit comhead\"> (<a href=\"from?site=analogictips.com\"><span class=\"sitestr\">analogictips.com</span></a>)</span></td></tr><tr><td colspan=\"2\"></td><td class=\"subtext\">\n",
      "        <span class=\"score\" id=\"score_18959357\">26 points</span> by <a href=\"user?id=hk__2\" class=\"hnuser\">hk__2</a> <span class=\"age\"><a href=\"item?id=18959357\">3 hours ago</a></span> <span id=\"unv_18959357\"></span> | <a href=\"hide?id=18959357&amp;goto=news\">hide</a> | <a href=\"item?id=18959357\">1&nbsp;comment</a>              </td></tr>\n",
      "      <tr class=\"spacer\" style=\"height:5px\"></tr>\n",
      "                <tr class='athing' id='18966330'>\n",
      "      <td align=\"right\" valign=\"top\" class=\"title\"><span class=\"rank\">7.</span></td>      <td valign=\"top\" class=\"votelinks\"><center><a id='up_18966330' href='vote?id=18966330&amp;how=up&amp;goto=news'><div class='votearrow' title='upvote'></div></a></center></td><td class=\"title\"><a href=\"http://www.bbc.com/culture/story/20170419-why-paradise-lost-is-one-of-the-worlds-most-important-poems\" class=\"storylink\">Paradise Lost is one of the most important poems</a><span class=\"sitebit comhead\"> (<a href=\"from?site=bbc.com\"><span class=\"sitestr\">bbc.com</span></a>)</span></td></tr><tr><td colspan=\"2\"></td><td class=\"subtext\">\n",
      "        <span class=\"score\" id=\"score_18966330\">21 points</span> by <a href=\"user?id=keiferski\" class=\"hnuser\">keiferski</a> <span class=\"age\"><a href=\"item?id=18966330\">3 hours ago</a></span> <span id=\"unv_18966330\"></span> | <a href=\"hide?id=18966330&amp;goto=news\">hide</a> | <a href=\"item?id=18966330\">9&nbsp;comments</a>              </td></tr>\n",
      "      <tr class=\"spacer\" style=\"height:5px\"></tr>\n",
      "                <tr class='athing' id='18961320'>\n",
      "      <td align=\"right\" valign=\"top\" class=\"title\"><span class=\"rank\">8.</span></td>      <td valign=\"top\" class=\"votelinks\"><center><a id='up_18961320' href='vote?id=18961320&amp;how=up&amp;goto=news'><div class='votearrow' title='upvote'></div></a></center></td><td class=\"title\"><a href=\"https://www.realmofhistory.com/2018/06/19/facts-ottoman-janissaries/\" class=\"storylink\">Things you should know about the Ottoman Janissaries</a><span class=\"sitebit comhead\"> (<a href=\"from?site=realmofhistory.com\"><span class=\"sitestr\">realmofhistory.com</span></a>)</span></td></tr><tr><td colspan=\"2\"></td><td class=\"subtext\">\n",
      "        <span class=\"score\" id=\"score_18961320\">24 points</span> by <a href=\"user?id=codermobile\" class=\"hnuser\">codermobile</a> <span class=\"age\"><a href=\"item?id=18961320\">3 hours ago</a></span> <span id=\"unv_18961320\"></span> | <a href=\"hide?id=18961320&amp;goto=news\">hide</a> | <a href=\"item?id=18961320\">3&nbsp;comments</a>              </td></tr>\n",
      "      <tr class=\"spacer\" style=\"height:5px\"></tr>\n",
      "                <tr class='athing' id='18964361'>\n",
      "      <td align=\"right\" valign=\"top\" class=\"title\"><span class=\"rank\">9.</span></td>      <td valign=\"top\" class=\"votelinks\"><center><a id='up_18964361' href='vote?id=18964361&amp;how=up&amp;goto=news'><div class='votearrow' title='upvote'></div></a></center></td><td class=\"title\"><a href=\"https://github.com/djc/quinn/releases/tag/0.2.0\" class=\"storylink\">Quinn 0.2.0: QUIC protocol implementation in Rust</a><span class=\"sitebit comhead\"> (<a href=\"from?site=github.com\"><span class=\"sitestr\">github.com</span></a>)</span></td></tr><tr><td colspan=\"2\"></td><td class=\"subtext\">\n",
      "        <span class=\"score\" id=\"score_18964361\">164 points</span> by <a href=\"user?id=whoisnnamdi\" class=\"hnuser\">whoisnnamdi</a> <span class=\"age\"><a href=\"item?id=18964361\">10 hours ago</a></span> <span id=\"unv_18964361\"></span> | <a href=\"hide?id=18964361&amp;goto=news\">hide</a> | <a href=\"item?id=18964361\">35&nbsp;comments</a>              </td></tr>\n",
      "      <tr class=\"spacer\" style=\"height:5px\"></tr>\n",
      "                <tr class='athing' id='18964470'>\n",
      "      <td align=\"right\" valign=\"top\" class=\"title\"><span class=\"rank\">10.</span></td>      <td valign=\"top\" class=\"votelinks\"><center><a id='up_18964470' href='vote?id=18964470&amp;how=up&amp;goto=news'><div class='votearrow' title='upvote'></div></a></center></td><td class=\"title\"><a href=\"https://www.latimes.com/business/la-fi-corporate-debt-risks-20190120-story.html#nws=mcnewsletter\" class=\"storylink\">$1.2T in risky corporate debt showing similar warning signs to subprime crisis</a><span class=\"sitebit comhead\"> (<a href=\"from?site=latimes.com\"><span class=\"sitestr\">latimes.com</span></a>)</span></td></tr><tr><td colspan=\"2\"></td><td class=\"subtext\">\n",
      "        <span class=\"score\" id=\"score_18964470\">363 points</span> by <a href=\"user?id=prostoalex\" class=\"hnuser\">prostoalex</a> <span class=\"age\"><a href=\"item?id=18964470\">10 hours ago</a></span> <span id=\"unv_18964470\"></span> | <a href=\"hide?id=18964470&amp;goto=news\">hide</a> | <a href=\"item?id=18964470\">205&nbsp;comments</a>              </td></tr>\n",
      "      <tr class=\"spacer\" style=\"height:5px\"></tr>\n",
      "                <tr class='athing' id='18959067'>\n",
      "      <td align=\"right\" valign=\"top\" class=\"title\"><span class=\"rank\">11.</span></td>      <td valign=\"top\" class=\"votelinks\"><center><a id='up_18959067' href='vote?id=18959067&amp;how=up&amp;goto=news'><div class='votearrow' title='upvote'></div></a></center></td><td class=\"title\"><a href=\"https://www.v68k.org/advanced-mac-substitute/\" class=\"storylink\">Advanced Mac Substitute: API-level reimplementation of classic Mac OS</a><span class=\"sitebit comhead\"> (<a href=\"from?site=v68k.org\"><span class=\"sitestr\">v68k.org</span></a>)</span></td></tr><tr><td colspan=\"2\"></td><td class=\"subtext\">\n",
      "        <span class=\"score\" id=\"score_18959067\">225 points</span> by <a href=\"user?id=fanf2\" class=\"hnuser\">fanf2</a> <span class=\"age\"><a href=\"item?id=18959067\">13 hours ago</a></span> <span id=\"unv_18959067\"></span> | <a href=\"hide?id=18959067&amp;goto=news\">hide</a> | <a href=\"item?id=18959067\">61&nbsp;comments</a>              </td></tr>\n",
      "      <tr class=\"spacer\" style=\"height:5px\"></tr>\n",
      "                <tr class='athing' id='18965767'>\n",
      "      <td align=\"right\" valign=\"top\" class=\"title\"><span class=\"rank\">12.</span></td>      <td valign=\"top\" class=\"votelinks\"><center><a id='up_18965767' href='vote?id=18965767&amp;how=up&amp;goto=news'><div class='votearrow' title='upvote'></div></a></center></td><td class=\"title\"><a href=\"http://6octaves.blogspot.com/2017/06/interview-with-japanese-demoscener.html?m=1\" class=\"storylink\">Interview with Japanese demoscener 0x4015 (2017)</a><span class=\"sitebit comhead\"> (<a href=\"from?site=6octaves.blogspot.com\"><span class=\"sitestr\">6octaves.blogspot.com</span></a>)</span></td></tr><tr><td colspan=\"2\"></td><td class=\"subtext\">\n",
      "        <span class=\"score\" id=\"score_18965767\">63 points</span> by <a href=\"user?id=codetrotter\" class=\"hnuser\">codetrotter</a> <span class=\"age\"><a href=\"item?id=18965767\">5 hours ago</a></span> <span id=\"unv_18965767\"></span> | <a href=\"hide?id=18965767&amp;goto=news\">hide</a> | <a href=\"item?id=18965767\">7&nbsp;comments</a>              </td></tr>\n",
      "      <tr class=\"spacer\" style=\"height:5px\"></tr>\n",
      "                <tr class='athing' id='18966295'>\n",
      "      <td align=\"right\" valign=\"top\" class=\"title\"><span class=\"rank\">13.</span></td>      <td valign=\"top\" class=\"votelinks\"><center><a id='up_18966295' href='vote?id=18966295&amp;how=up&amp;goto=news'><div class='votearrow' title='upvote'></div></a></center></td><td class=\"title\"><a href=\"https://rust-lang.github.io/async-book/\" class=\"storylink\">Asynchronous Programming in Rust book</a><span class=\"sitebit comhead\"> (<a href=\"from?site=rust-lang.github.io\"><span class=\"sitestr\">rust-lang.github.io</span></a>)</span></td></tr><tr><td colspan=\"2\"></td><td class=\"subtext\">\n",
      "        <span class=\"score\" id=\"score_18966295\">16 points</span> by <a href=\"user?id=guifortaine\" class=\"hnuser\">guifortaine</a> <span class=\"age\"><a href=\"item?id=18966295\">3 hours ago</a></span> <span id=\"unv_18966295\"></span> | <a href=\"hide?id=18966295&amp;goto=news\">hide</a> | <a href=\"item?id=18966295\">1&nbsp;comment</a>              </td></tr>\n",
      "      <tr class=\"spacer\" style=\"height:5px\"></tr>\n",
      "                <tr class='athing' id='18962861'>\n",
      "      <td align=\"right\" valign=\"top\" class=\"title\"><span class=\"rank\">14.</span></td>      <td valign=\"top\" class=\"votelinks\"><center><a id='up_18962861' href='vote?id=18962861&amp;how=up&amp;goto=news'><div class='votearrow' title='upvote'></div></a></center></td><td class=\"title\"><a href=\"https://genode.org/about/index\" class=\"storylink\">Genode OS: A tool kit for highly secure special-purpose operating systems</a><span class=\"sitebit comhead\"> (<a href=\"from?site=genode.org\"><span class=\"sitestr\">genode.org</span></a>)</span></td></tr><tr><td colspan=\"2\"></td><td class=\"subtext\">\n",
      "        <span class=\"score\" id=\"score_18962861\">180 points</span> by <a href=\"user?id=doener\" class=\"hnuser\">doener</a> <span class=\"age\"><a href=\"item?id=18962861\">13 hours ago</a></span> <span id=\"unv_18962861\"></span> | <a href=\"hide?id=18962861&amp;goto=news\">hide</a> | <a href=\"item?id=18962861\">24&nbsp;comments</a>              </td></tr>\n",
      "      <tr class=\"spacer\" style=\"height:5px\"></tr>\n",
      "                <tr class='athing' id='18964961'>\n",
      "      <td align=\"right\" valign=\"top\" class=\"title\"><span class=\"rank\">15.</span></td>      <td valign=\"top\" class=\"votelinks\"><center><a id='up_18964961' href='vote?id=18964961&amp;how=up&amp;goto=news'><div class='votearrow' title='upvote'></div></a></center></td><td class=\"title\"><a href=\"https://scoop.sh/\" class=\"storylink\">A command-line installer for Windows</a><span class=\"sitebit comhead\"> (<a href=\"from?site=scoop.sh\"><span class=\"sitestr\">scoop.sh</span></a>)</span></td></tr><tr><td colspan=\"2\"></td><td class=\"subtext\">\n",
      "        <span class=\"score\" id=\"score_18964961\">67 points</span> by <a href=\"user?id=anuragsoni\" class=\"hnuser\">anuragsoni</a> <span class=\"age\"><a href=\"item?id=18964961\">8 hours ago</a></span> <span id=\"unv_18964961\"></span> | <a href=\"hide?id=18964961&amp;goto=news\">hide</a> | <a href=\"item?id=18964961\">39&nbsp;comments</a>              </td></tr>\n",
      "      <tr class=\"spacer\" style=\"height:5px\"></tr>\n",
      "                <tr class='athing' id='18959997'>\n",
      "      <td align=\"right\" valign=\"top\" class=\"title\"><span class=\"rank\">16.</span></td>      <td valign=\"top\" class=\"votelinks\"><center><a id='up_18959997' href='vote?id=18959997&amp;how=up&amp;goto=news'><div class='votearrow' title='upvote'></div></a></center></td><td class=\"title\"><a href=\"http://mariofilho.com/can-gradient-boosting-learn-simple-arithmetic/\" class=\"storylink\">Can Gradient Boosting Learn Simple Arithmetic?</a><span class=\"sitebit comhead\"> (<a href=\"from?site=mariofilho.com\"><span class=\"sitestr\">mariofilho.com</span></a>)</span></td></tr><tr><td colspan=\"2\"></td><td class=\"subtext\">\n",
      "        <span class=\"score\" id=\"score_18959997\">25 points</span> by <a href=\"user?id=mariofilho\" class=\"hnuser\">mariofilho</a> <span class=\"age\"><a href=\"item?id=18959997\">4 hours ago</a></span> <span id=\"unv_18959997\"></span> | <a href=\"hide?id=18959997&amp;goto=news\">hide</a> | <a href=\"item?id=18959997\">5&nbsp;comments</a>              </td></tr>\n",
      "      <tr class=\"spacer\" style=\"height:5px\"></tr>\n",
      "                <tr class='athing' id='18959636'>\n",
      "      <td align=\"right\" valign=\"top\" class=\"title\"><span class=\"rank\">17.</span></td>      <td valign=\"top\" class=\"votelinks\"><center><a id='up_18959636' href='vote?id=18959636&amp;how=up&amp;goto=news'><div class='votearrow' title='upvote'></div></a></center></td><td class=\"title\"><a href=\"http://number-none.com/blow/john_carmack_on_inlined_code.html\" class=\"storylink\">John Carmack on Inlined Code (2014)</a><span class=\"sitebit comhead\"> (<a href=\"from?site=number-none.com\"><span class=\"sitestr\">number-none.com</span></a>)</span></td></tr><tr><td colspan=\"2\"></td><td class=\"subtext\">\n",
      "        <span class=\"score\" id=\"score_18959636\">104 points</span> by <a href=\"user?id=tosh\" class=\"hnuser\">tosh</a> <span class=\"age\"><a href=\"item?id=18959636\">11 hours ago</a></span> <span id=\"unv_18959636\"></span> | <a href=\"hide?id=18959636&amp;goto=news\">hide</a> | <a href=\"item?id=18959636\">44&nbsp;comments</a>              </td></tr>\n",
      "      <tr class=\"spacer\" style=\"height:5px\"></tr>\n",
      "                <tr class='athing' id='18961083'>\n",
      "      <td align=\"right\" valign=\"top\" class=\"title\"><span class=\"rank\">18.</span></td>      <td valign=\"top\" class=\"votelinks\"><center><a id='up_18961083' href='vote?id=18961083&amp;how=up&amp;goto=news'><div class='votearrow' title='upvote'></div></a></center></td><td class=\"title\"><a href=\"https://habr.com/en/post/436934/\" class=\"storylink\" rel=\"nofollow\">Naïve Math: The Mendocino Motor and Earnshaw's Theorem</a><span class=\"sitebit comhead\"> (<a href=\"from?site=habr.com\"><span class=\"sitestr\">habr.com</span></a>)</span></td></tr><tr><td colspan=\"2\"></td><td class=\"subtext\">\n",
      "        <span class=\"score\" id=\"score_18961083\">5 points</span> by <a href=\"user?id=haqreu\" class=\"hnuser\">haqreu</a> <span class=\"age\"><a href=\"item?id=18961083\">1 hour ago</a></span> <span id=\"unv_18961083\"></span> | <a href=\"hide?id=18961083&amp;goto=news\">hide</a> | <a href=\"item?id=18961083\">discuss</a>              </td></tr>\n",
      "      <tr class=\"spacer\" style=\"height:5px\"></tr>\n",
      "                <tr class='athing' id='18965197'>\n",
      "      <td align=\"right\" valign=\"top\" class=\"title\"><span class=\"rank\">19.</span></td>      <td valign=\"top\" class=\"votelinks\"><center><a id='up_18965197' href='vote?id=18965197&amp;how=up&amp;goto=news'><div class='votearrow' title='upvote'></div></a></center></td><td class=\"title\"><a href=\"https://techcrunch.com/2019/01/21/munchery-shuts-down/\" class=\"storylink\">Munchery Shuts Down</a><span class=\"sitebit comhead\"> (<a href=\"from?site=techcrunch.com\"><span class=\"sitestr\">techcrunch.com</span></a>)</span></td></tr><tr><td colspan=\"2\"></td><td class=\"subtext\">\n",
      "        <span class=\"score\" id=\"score_18965197\">86 points</span> by <a href=\"user?id=kposehn\" class=\"hnuser\">kposehn</a> <span class=\"age\"><a href=\"item?id=18965197\">7 hours ago</a></span> <span id=\"unv_18965197\"></span> | <a href=\"hide?id=18965197&amp;goto=news\">hide</a> | <a href=\"item?id=18965197\">95&nbsp;comments</a>              </td></tr>\n",
      "      <tr class=\"spacer\" style=\"height:5px\"></tr>\n",
      "                <tr class='athing' id='18964404'>\n",
      "      <td align=\"right\" valign=\"top\" class=\"title\"><span class=\"rank\">20.</span></td>      <td valign=\"top\" class=\"votelinks\"><center><a id='up_18964404' href='vote?id=18964404&amp;how=up&amp;goto=news'><div class='votearrow' title='upvote'></div></a></center></td><td class=\"title\"><a href=\"https://www.willusher.io/webgl/2019/01/13/volume-rendering-with-webgl\" class=\"storylink\">Volume Rendering with WebGL</a><span class=\"sitebit comhead\"> (<a href=\"from?site=willusher.io\"><span class=\"sitestr\">willusher.io</span></a>)</span></td></tr><tr><td colspan=\"2\"></td><td class=\"subtext\">\n",
      "        <span class=\"score\" id=\"score_18964404\">77 points</span> by <a href=\"user?id=ArtWomb\" class=\"hnuser\">ArtWomb</a> <span class=\"age\"><a href=\"item?id=18964404\">10 hours ago</a></span> <span id=\"unv_18964404\"></span> | <a href=\"hide?id=18964404&amp;goto=news\">hide</a> | <a href=\"item?id=18964404\">6&nbsp;comments</a>              </td></tr>\n",
      "      <tr class=\"spacer\" style=\"height:5px\"></tr>\n",
      "                <tr class='athing' id='18964978'>\n",
      "      <td align=\"right\" valign=\"top\" class=\"title\"><span class=\"rank\">21.</span></td>      <td valign=\"top\" class=\"votelinks\"><center><a id='up_18964978' href='vote?id=18964978&amp;how=up&amp;goto=news'><div class='votearrow' title='upvote'></div></a></center></td><td class=\"title\"><a href=\"https://techcrunch.com/2019/01/14/turns-out-the-science-saying-screen-time-is-bad-isnt-science/\" class=\"storylink\">Is screen time good or bad? It’s not that simple</a><span class=\"sitebit comhead\"> (<a href=\"from?site=techcrunch.com\"><span class=\"sitestr\">techcrunch.com</span></a>)</span></td></tr><tr><td colspan=\"2\"></td><td class=\"subtext\">\n",
      "        <span class=\"score\" id=\"score_18964978\">39 points</span> by <a href=\"user?id=mrkuchbhi\" class=\"hnuser\">mrkuchbhi</a> <span class=\"age\"><a href=\"item?id=18964978\">8 hours ago</a></span> <span id=\"unv_18964978\"></span> | <a href=\"hide?id=18964978&amp;goto=news\">hide</a> | <a href=\"item?id=18964978\">23&nbsp;comments</a>              </td></tr>\n",
      "      <tr class=\"spacer\" style=\"height:5px\"></tr>\n",
      "                <tr class='athing' id='18964007'>\n",
      "      <td align=\"right\" valign=\"top\" class=\"title\"><span class=\"rank\">22.</span></td>      <td valign=\"top\" class=\"votelinks\"><center><a id='up_18964007' href='vote?id=18964007&amp;how=up&amp;goto=news'><div class='votearrow' title='upvote'></div></a></center></td><td class=\"title\"><a href=\"https://mybinder.org/\" class=\"storylink\">Binder – Turn a Git repo into a collection of interactive notebooks</a><span class=\"sitebit comhead\"> (<a href=\"from?site=mybinder.org\"><span class=\"sitestr\">mybinder.org</span></a>)</span></td></tr><tr><td colspan=\"2\"></td><td class=\"subtext\">\n",
      "        <span class=\"score\" id=\"score_18964007\">79 points</span> by <a href=\"user?id=jonbaer\" class=\"hnuser\">jonbaer</a> <span class=\"age\"><a href=\"item?id=18964007\">11 hours ago</a></span> <span id=\"unv_18964007\"></span> | <a href=\"hide?id=18964007&amp;goto=news\">hide</a> | <a href=\"item?id=18964007\">25&nbsp;comments</a>              </td></tr>\n",
      "      <tr class=\"spacer\" style=\"height:5px\"></tr>\n",
      "                <tr class='athing' id='18964288'>\n",
      "      <td align=\"right\" valign=\"top\" class=\"title\"><span class=\"rank\">23.</span></td>      <td valign=\"top\" class=\"votelinks\"><center><a id='up_18964288' href='vote?id=18964288&amp;how=up&amp;goto=news'><div class='votearrow' title='upvote'></div></a></center></td><td class=\"title\"><a href=\"https://kousun12.github.io/eternal/\" class=\"storylink\">Show HN: FBP editor for music/vfx with [three, tone, tensorflow].js nodes</a><span class=\"sitebit comhead\"> (<a href=\"from?site=kousun12.github.io\"><span class=\"sitestr\">kousun12.github.io</span></a>)</span></td></tr><tr><td colspan=\"2\"></td><td class=\"subtext\">\n",
      "        <span class=\"score\" id=\"score_18964288\">33 points</span> by <a href=\"user?id=kousun12\" class=\"hnuser\">kousun12</a> <span class=\"age\"><a href=\"item?id=18964288\">10 hours ago</a></span> <span id=\"unv_18964288\"></span> | <a href=\"hide?id=18964288&amp;goto=news\">hide</a> | <a href=\"item?id=18964288\">13&nbsp;comments</a>              </td></tr>\n",
      "      <tr class=\"spacer\" style=\"height:5px\"></tr>\n",
      "                <tr class='athing' id='18959796'>\n",
      "      <td align=\"right\" valign=\"top\" class=\"title\"><span class=\"rank\">24.</span></td>      <td valign=\"top\" class=\"votelinks\"><center><a id='up_18959796' href='vote?id=18959796&amp;how=up&amp;goto=news'><div class='votearrow' title='upvote'></div></a></center></td><td class=\"title\"><a href=\"https://www.gwern.net/zeo/CO2\" class=\"storylink\">On whether changes in bedroom CO2 levels affect sleep quality</a><span class=\"sitebit comhead\"> (<a href=\"from?site=gwern.net\"><span class=\"sitestr\">gwern.net</span></a>)</span></td></tr><tr><td colspan=\"2\"></td><td class=\"subtext\">\n",
      "        <span class=\"score\" id=\"score_18959796\">458 points</span> by <a href=\"user?id=pizza\" class=\"hnuser\">pizza</a> <span class=\"age\"><a href=\"item?id=18959796\">17 hours ago</a></span> <span id=\"unv_18959796\"></span> | <a href=\"hide?id=18959796&amp;goto=news\">hide</a> | <a href=\"item?id=18959796\">230&nbsp;comments</a>              </td></tr>\n",
      "      <tr class=\"spacer\" style=\"height:5px\"></tr>\n",
      "                <tr class='athing' id='18964397'>\n",
      "      <td align=\"right\" valign=\"top\" class=\"title\"><span class=\"rank\">25.</span></td>      <td valign=\"top\" class=\"votelinks\"><center><a id='up_18964397' href='vote?id=18964397&amp;how=up&amp;goto=news'><div class='votearrow' title='upvote'></div></a></center></td><td class=\"title\"><a href=\"https://github.com/pingcap/dm\" class=\"storylink\">TiDB open sources its MySQL/MariaDB compatible data migration tool</a><span class=\"sitebit comhead\"> (<a href=\"from?site=github.com\"><span class=\"sitestr\">github.com</span></a>)</span></td></tr><tr><td colspan=\"2\"></td><td class=\"subtext\">\n",
      "        <span class=\"score\" id=\"score_18964397\">54 points</span> by <a href=\"user?id=ceohockey60\" class=\"hnuser\">ceohockey60</a> <span class=\"age\"><a href=\"item?id=18964397\">10 hours ago</a></span> <span id=\"unv_18964397\"></span> | <a href=\"hide?id=18964397&amp;goto=news\">hide</a> | <a href=\"item?id=18964397\">16&nbsp;comments</a>              </td></tr>\n",
      "      <tr class=\"spacer\" style=\"height:5px\"></tr>\n",
      "                <tr class='athing' id='18959861'>\n",
      "      <td align=\"right\" valign=\"top\" class=\"title\"><span class=\"rank\">26.</span></td>      <td valign=\"top\" class=\"votelinks\"><center><a id='up_18959861' href='vote?id=18959861&amp;how=up&amp;goto=news'><div class='votearrow' title='upvote'></div></a></center></td><td class=\"title\"><a href=\"https://en.wikipedia.org/wiki/Rules_of_Play\" class=\"storylink\">Rules of Play</a><span class=\"sitebit comhead\"> (<a href=\"from?site=wikipedia.org\"><span class=\"sitestr\">wikipedia.org</span></a>)</span></td></tr><tr><td colspan=\"2\"></td><td class=\"subtext\">\n",
      "        <span class=\"score\" id=\"score_18959861\">26 points</span> by <a href=\"user?id=gekkostate\" class=\"hnuser\">gekkostate</a> <span class=\"age\"><a href=\"item?id=18959861\">5 hours ago</a></span> <span id=\"unv_18959861\"></span> | <a href=\"hide?id=18959861&amp;goto=news\">hide</a> | <a href=\"item?id=18959861\">5&nbsp;comments</a>              </td></tr>\n",
      "      <tr class=\"spacer\" style=\"height:5px\"></tr>\n",
      "                <tr class='athing' id='18965491'>\n",
      "      <td align=\"right\" valign=\"top\" class=\"title\"><span class=\"rank\">27.</span></td>      <td valign=\"top\" class=\"votelinks\"><center><a id='up_18965491' href='vote?id=18965491&amp;how=up&amp;goto=news'><div class='votearrow' title='upvote'></div></a></center></td><td class=\"title\"><a href=\"https://www.maxmin.io/2019/01/21/Infinite-Repeating-Dashed-Lines-in-SVG/\" class=\"storylink\">Infinite Repeating Dashed Lines in SVG</a><span class=\"sitebit comhead\"> (<a href=\"from?site=maxmin.io\"><span class=\"sitestr\">maxmin.io</span></a>)</span></td></tr><tr><td colspan=\"2\"></td><td class=\"subtext\">\n",
      "        <span class=\"score\" id=\"score_18965491\">26 points</span> by <a href=\"user?id=gk1\" class=\"hnuser\">gk1</a> <span class=\"age\"><a href=\"item?id=18965491\">6 hours ago</a></span> <span id=\"unv_18965491\"></span> | <a href=\"hide?id=18965491&amp;goto=news\">hide</a> | <a href=\"item?id=18965491\">3&nbsp;comments</a>              </td></tr>\n",
      "      <tr class=\"spacer\" style=\"height:5px\"></tr>\n",
      "                <tr class='athing' id='18964665'>\n",
      "      <td align=\"right\" valign=\"top\" class=\"title\"><span class=\"rank\">28.</span></td>      <td valign=\"top\" class=\"votelinks\"><center><a id='up_18964665' href='vote?id=18964665&amp;how=up&amp;goto=news'><div class='votearrow' title='upvote'></div></a></center></td><td class=\"title\"><a href=\"http://www.objective.st/\" class=\"storylink\">Objective-Smalltalk: now serving its own web site</a><span class=\"sitebit comhead\"> (<a href=\"from?site=objective.st\"><span class=\"sitestr\">objective.st</span></a>)</span></td></tr><tr><td colspan=\"2\"></td><td class=\"subtext\">\n",
      "        <span class=\"score\" id=\"score_18964665\">44 points</span> by <a href=\"user?id=mpweiher\" class=\"hnuser\">mpweiher</a> <span class=\"age\"><a href=\"item?id=18964665\">9 hours ago</a></span> <span id=\"unv_18964665\"></span> | <a href=\"hide?id=18964665&amp;goto=news\">hide</a> | <a href=\"item?id=18964665\">19&nbsp;comments</a>              </td></tr>\n",
      "      <tr class=\"spacer\" style=\"height:5px\"></tr>\n",
      "                <tr class='athing' id='18961793'>\n",
      "      <td align=\"right\" valign=\"top\" class=\"title\"><span class=\"rank\">29.</span></td>      <td valign=\"top\" class=\"votelinks\"><center><a id='up_18961793' href='vote?id=18961793&amp;how=up&amp;goto=news'><div class='votearrow' title='upvote'></div></a></center></td><td class=\"title\"><a href=\"item?id=18961793\" class=\"storylink\">Ask HN: What are must know concepts for back end development?</a></td></tr><tr><td colspan=\"2\"></td><td class=\"subtext\">\n",
      "        <span class=\"score\" id=\"score_18961793\">325 points</span> by <a href=\"user?id=chrisdsaldivar\" class=\"hnuser\">chrisdsaldivar</a> <span class=\"age\"><a href=\"item?id=18961793\">15 hours ago</a></span> <span id=\"unv_18961793\"></span> | <a href=\"hide?id=18961793&amp;goto=news\">hide</a> | <a href=\"item?id=18961793\">81&nbsp;comments</a>              </td></tr>\n",
      "      <tr class=\"spacer\" style=\"height:5px\"></tr>\n",
      "                <tr class='athing' id='18964819'>\n",
      "      <td align=\"right\" valign=\"top\" class=\"title\"><span class=\"rank\">30.</span></td>      <td valign=\"top\" class=\"votelinks\"><center><a id='up_18964819' href='vote?id=18964819&amp;how=up&amp;goto=news'><div class='votearrow' title='upvote'></div></a></center></td><td class=\"title\"><a href=\"https://www.intentapp.com/blog/weight-loss-cost/\" class=\"storylink\">What I learned from reading over 100 weight loss studies</a><span class=\"sitebit comhead\"> (<a href=\"from?site=intentapp.com\"><span class=\"sitestr\">intentapp.com</span></a>)</span></td></tr><tr><td colspan=\"2\"></td><td class=\"subtext\">\n",
      "        <span class=\"score\" id=\"score_18964819\">91 points</span> by <a href=\"user?id=willsun\" class=\"hnuser\">willsun</a> <span class=\"age\"><a href=\"item?id=18964819\">9 hours ago</a></span> <span id=\"unv_18964819\"></span> | <a href=\"hide?id=18964819&amp;goto=news\">hide</a> | <a href=\"item?id=18964819\">115&nbsp;comments</a>              </td></tr>\n",
      "      <tr class=\"spacer\" style=\"height:5px\"></tr>\n",
      "            <tr class=\"morespace\" style=\"height:10px\"></tr><tr><td colspan=\"2\"></td><td class=\"title\"><a href=\"news?p=2\" class=\"morelink\" rel=\"nofollow\">More</a></td></tr>\n",
      "  </table>\n",
      "</td></tr>\n",
      "<tr><td><img src=\"s.gif\" height=\"10\" width=\"0\"><table width=\"100%\" cellspacing=\"0\" cellpadding=\"1\"><tr><td bgcolor=\"#ff6600\"></td></tr></table><br><center><span class=\"yclinks\"><a href=\"newsguidelines.html\">Guidelines</a>\n",
      "        | <a href=\"newsfaq.html\">FAQ</a>\n",
      "        | <a href=\"mailto:hn@ycombinator.com\">Support</a>\n",
      "        | <a href=\"https://github.com/HackerNews/API\">API</a>\n",
      "        | <a href=\"security.html\">Security</a>\n",
      "        | <a href=\"lists\">Lists</a>\n",
      "        | <a href=\"bookmarklet.html\" rel=\"nofollow\">Bookmarklet</a>\n",
      "        | <a href=\"http://www.ycombinator.com/legal/\">Legal</a>\n",
      "        | <a href=\"http://www.ycombinator.com/apply/\">Apply to YC</a>\n",
      "        | <a href=\"mailto:hn@ycombinator.com\">Contact</a></span><br><br><form method=\"get\" action=\"//hn.algolia.com/\">Search:\n",
      "          <input type=\"text\" name=\"q\" value=\"\" size=\"17\" autocorrect=\"off\" spellcheck=\"false\" autocapitalize=\"off\" autocomplete=\"false\"></form>\n",
      "            </center></td></tr>\n",
      "      </table></center></body><script type='text/javascript' src='hn.js?QbgBhXbKMX6bgtjM6c6C'></script>\n",
      "  </html>\n",
      "\n"
     ]
    }
   ],
   "source": [
    "import requests\n",
    "\n",
    "# Fetch a web page\n",
    "r = requests.get(\"https://news.ycombinator.com\")\n",
    "print(r.text)"
   ]
  },
  {
   "cell_type": "code",
   "execution_count": 9,
   "metadata": {},
   "outputs": [
    {
     "name": "stdout",
     "output_type": "stream",
     "text": [
      "\n",
      "            \n",
      "          \n",
      "        Hacker News\n",
      "        \n",
      "                  Hacker News\n",
      "              new | comments | ask | show | jobs | submit            \n",
      "                              login\n",
      "                          \n",
      "              \n",
      "\n",
      "              \n",
      "      1.      Why Don't People Use Formal Methods? (hillelwayne.com)\n",
      "        225 points by pplonski86 7 hours ago  | hide | 119&nbsp;comments              \n",
      "      \n",
      "                \n",
      "      2.      Researchers Have Identified a Virus That Attacks Human Cancer Cells (healthfoodis.com)\n",
      "        14 points by known 1 hour ago  | hide | 6&nbsp;comments              \n",
      "      \n",
      "                \n",
      "      3.      Show HN: Convert article in current tab to readable form and upload it to IPFS (addons.mozilla.org)\n",
      "        95 points by meehow 5 hours ago  | hide | 21&nbsp;comments              \n",
      "      \n",
      "                \n",
      "      4.      Hemingway’s World War I savior is anonymous no more (washingtonpost.com)\n",
      "        41 points by longdefeat 4 hours ago  | hide | 9&nbsp;comments              \n",
      "      \n",
      "                \n",
      "      5.      Flutter: Futures, Isolates, Event Loop (didierboelens.com)\n",
      "        99 points by yannikyeo 6 hours ago  | hide | 14&nbsp;comments              \n",
      "      \n",
      "                \n",
      "      6.      Analog computation, Part 1: What and why (analogictips.com)\n",
      "        26 points by hk__2 3 hours ago  | hide | 1&nbsp;comment              \n",
      "      \n",
      "                \n",
      "      7.      Paradise Lost is one of the most important poems (bbc.com)\n",
      "        21 points by keiferski 3 hours ago  | hide | 9&nbsp;comments              \n",
      "      \n",
      "                \n",
      "      8.      Things you should know about the Ottoman Janissaries (realmofhistory.com)\n",
      "        24 points by codermobile 3 hours ago  | hide | 3&nbsp;comments              \n",
      "      \n",
      "                \n",
      "      9.      Quinn 0.2.0: QUIC protocol implementation in Rust (github.com)\n",
      "        164 points by whoisnnamdi 10 hours ago  | hide | 35&nbsp;comments              \n",
      "      \n",
      "                \n",
      "      10.      $1.2T in risky corporate debt showing similar warning signs to subprime crisis (latimes.com)\n",
      "        363 points by prostoalex 10 hours ago  | hide | 205&nbsp;comments              \n",
      "      \n",
      "                \n",
      "      11.      Advanced Mac Substitute: API-level reimplementation of classic Mac OS (v68k.org)\n",
      "        225 points by fanf2 13 hours ago  | hide | 61&nbsp;comments              \n",
      "      \n",
      "                \n",
      "      12.      Interview with Japanese demoscener 0x4015 (2017) (6octaves.blogspot.com)\n",
      "        63 points by codetrotter 5 hours ago  | hide | 7&nbsp;comments              \n",
      "      \n",
      "                \n",
      "      13.      Asynchronous Programming in Rust book (rust-lang.github.io)\n",
      "        16 points by guifortaine 3 hours ago  | hide | 1&nbsp;comment              \n",
      "      \n",
      "                \n",
      "      14.      Genode OS: A tool kit for highly secure special-purpose operating systems (genode.org)\n",
      "        180 points by doener 13 hours ago  | hide | 24&nbsp;comments              \n",
      "      \n",
      "                \n",
      "      15.      A command-line installer for Windows (scoop.sh)\n",
      "        67 points by anuragsoni 8 hours ago  | hide | 39&nbsp;comments              \n",
      "      \n",
      "                \n",
      "      16.      Can Gradient Boosting Learn Simple Arithmetic? (mariofilho.com)\n",
      "        25 points by mariofilho 4 hours ago  | hide | 5&nbsp;comments              \n",
      "      \n",
      "                \n",
      "      17.      John Carmack on Inlined Code (2014) (number-none.com)\n",
      "        104 points by tosh 11 hours ago  | hide | 44&nbsp;comments              \n",
      "      \n",
      "                \n",
      "      18.      Naïve Math: The Mendocino Motor and Earnshaw's Theorem (habr.com)\n",
      "        5 points by haqreu 1 hour ago  | hide | discuss              \n",
      "      \n",
      "                \n",
      "      19.      Munchery Shuts Down (techcrunch.com)\n",
      "        86 points by kposehn 7 hours ago  | hide | 95&nbsp;comments              \n",
      "      \n",
      "                \n",
      "      20.      Volume Rendering with WebGL (willusher.io)\n",
      "        77 points by ArtWomb 10 hours ago  | hide | 6&nbsp;comments              \n",
      "      \n",
      "                \n",
      "      21.      Is screen time good or bad? It’s not that simple (techcrunch.com)\n",
      "        39 points by mrkuchbhi 8 hours ago  | hide | 23&nbsp;comments              \n",
      "      \n",
      "                \n",
      "      22.      Binder – Turn a Git repo into a collection of interactive notebooks (mybinder.org)\n",
      "        79 points by jonbaer 11 hours ago  | hide | 25&nbsp;comments              \n",
      "      \n",
      "                \n",
      "      23.      Show HN: FBP editor for music/vfx with [three, tone, tensorflow].js nodes (kousun12.github.io)\n",
      "        33 points by kousun12 10 hours ago  | hide | 13&nbsp;comments              \n",
      "      \n",
      "                \n",
      "      24.      On whether changes in bedroom CO2 levels affect sleep quality (gwern.net)\n",
      "        458 points by pizza 17 hours ago  | hide | 230&nbsp;comments              \n",
      "      \n",
      "                \n",
      "      25.      TiDB open sources its MySQL/MariaDB compatible data migration tool (github.com)\n",
      "        54 points by ceohockey60 10 hours ago  | hide | 16&nbsp;comments              \n",
      "      \n",
      "                \n",
      "      26.      Rules of Play (wikipedia.org)\n",
      "        26 points by gekkostate 5 hours ago  | hide | 5&nbsp;comments              \n",
      "      \n",
      "                \n",
      "      27.      Infinite Repeating Dashed Lines in SVG (maxmin.io)\n",
      "        26 points by gk1 6 hours ago  | hide | 3&nbsp;comments              \n",
      "      \n",
      "                \n",
      "      28.      Objective-Smalltalk: now serving its own web site (objective.st)\n",
      "        44 points by mpweiher 9 hours ago  | hide | 19&nbsp;comments              \n",
      "      \n",
      "                \n",
      "      29.      Ask HN: What are must know concepts for back end development?\n",
      "        325 points by chrisdsaldivar 15 hours ago  | hide | 81&nbsp;comments              \n",
      "      \n",
      "                \n",
      "      30.      What I learned from reading over 100 weight loss studies (intentapp.com)\n",
      "        91 points by willsun 9 hours ago  | hide | 115&nbsp;comments              \n",
      "      \n",
      "            More\n",
      "  \n",
      "\n",
      "Guidelines\n",
      "        | FAQ\n",
      "        | Support\n",
      "        | API\n",
      "        | Security\n",
      "        | Lists\n",
      "        | Bookmarklet\n",
      "        | Legal\n",
      "        | Apply to YC\n",
      "        | ContactSearch:\n",
      "          \n",
      "            \n",
      "      \n",
      "  \n",
      "\n"
     ]
    }
   ],
   "source": [
    "import re\n",
    "\n",
    "# Remove HTML tags using RegEx\n",
    "pattern = re.compile(r'<.*?>')  # tags look like <...>\n",
    "print(pattern.sub('', r.text))  # replace them with blank"
   ]
  },
  {
   "cell_type": "code",
   "execution_count": 10,
   "metadata": {},
   "outputs": [
    {
     "name": "stdout",
     "output_type": "stream",
     "text": [
      "\n",
      "            \n",
      "          \n",
      "        Hacker News\n",
      "        \n",
      "                  Hacker News\n",
      "              new | comments | ask | show | jobs | submit            \n",
      "                              login\n",
      "                          \n",
      "              \n",
      "\n",
      "              \n",
      "      1.      Why Don't People Use Formal Methods? (hillelwayne.com)\n",
      "        225 points by pplonski86 7 hours ago  | hide | 119 comments              \n",
      "      \n",
      "                \n",
      "      2.      Researchers Have Identified a Virus That Attacks Human Cancer Cells (healthfoodis.com)\n",
      "        14 points by known 1 hour ago  | hide | 6 comments              \n",
      "      \n",
      "                \n",
      "      3.      Show HN: Convert article in current tab to readable form and upload it to IPFS (addons.mozilla.org)\n",
      "        95 points by meehow 5 hours ago  | hide | 21 comments              \n",
      "      \n",
      "                \n",
      "      4.      Hemingway’s World War I savior is anonymous no more (washingtonpost.com)\n",
      "        41 points by longdefeat 4 hours ago  | hide | 9 comments              \n",
      "      \n",
      "                \n",
      "      5.      Flutter: Futures, Isolates, Event Loop (didierboelens.com)\n",
      "        99 points by yannikyeo 6 hours ago  | hide | 14 comments              \n",
      "      \n",
      "                \n",
      "      6.      Analog computation, Part 1: What and why (analogictips.com)\n",
      "        26 points by hk__2 3 hours ago  | hide | 1 comment              \n",
      "      \n",
      "                \n",
      "      7.      Paradise Lost is one of the most important poems (bbc.com)\n",
      "        21 points by keiferski 3 hours ago  | hide | 9 comments              \n",
      "      \n",
      "                \n",
      "      8.      Things you should know about the Ottoman Janissaries (realmofhistory.com)\n",
      "        24 points by codermobile 3 hours ago  | hide | 3 comments              \n",
      "      \n",
      "                \n",
      "      9.      Quinn 0.2.0: QUIC protocol implementation in Rust (github.com)\n",
      "        164 points by whoisnnamdi 10 hours ago  | hide | 35 comments              \n",
      "      \n",
      "                \n",
      "      10.      $1.2T in risky corporate debt showing similar warning signs to subprime crisis (latimes.com)\n",
      "        363 points by prostoalex 10 hours ago  | hide | 205 comments              \n",
      "      \n",
      "                \n",
      "      11.      Advanced Mac Substitute: API-level reimplementation of classic Mac OS (v68k.org)\n",
      "        225 points by fanf2 13 hours ago  | hide | 61 comments              \n",
      "      \n",
      "                \n",
      "      12.      Interview with Japanese demoscener 0x4015 (2017) (6octaves.blogspot.com)\n",
      "        63 points by codetrotter 5 hours ago  | hide | 7 comments              \n",
      "      \n",
      "                \n",
      "      13.      Asynchronous Programming in Rust book (rust-lang.github.io)\n",
      "        16 points by guifortaine 3 hours ago  | hide | 1 comment              \n",
      "      \n",
      "                \n",
      "      14.      Genode OS: A tool kit for highly secure special-purpose operating systems (genode.org)\n",
      "        180 points by doener 13 hours ago  | hide | 24 comments              \n",
      "      \n",
      "                \n",
      "      15.      A command-line installer for Windows (scoop.sh)\n",
      "        67 points by anuragsoni 8 hours ago  | hide | 39 comments              \n",
      "      \n",
      "                \n",
      "      16.      Can Gradient Boosting Learn Simple Arithmetic? (mariofilho.com)\n",
      "        25 points by mariofilho 4 hours ago  | hide | 5 comments              \n",
      "      \n",
      "                \n",
      "      17.      John Carmack on Inlined Code (2014) (number-none.com)\n",
      "        104 points by tosh 11 hours ago  | hide | 44 comments              \n",
      "      \n",
      "                \n",
      "      18.      Naïve Math: The Mendocino Motor and Earnshaw's Theorem (habr.com)\n",
      "        5 points by haqreu 1 hour ago  | hide | discuss              \n",
      "      \n",
      "                \n",
      "      19.      Munchery Shuts Down (techcrunch.com)\n",
      "        86 points by kposehn 7 hours ago  | hide | 95 comments              \n",
      "      \n",
      "                \n",
      "      20.      Volume Rendering with WebGL (willusher.io)\n",
      "        77 points by ArtWomb 10 hours ago  | hide | 6 comments              \n",
      "      \n",
      "                \n",
      "      21.      Is screen time good or bad? It’s not that simple (techcrunch.com)\n",
      "        39 points by mrkuchbhi 8 hours ago  | hide | 23 comments              \n",
      "      \n",
      "                \n",
      "      22.      Binder – Turn a Git repo into a collection of interactive notebooks (mybinder.org)\n",
      "        79 points by jonbaer 11 hours ago  | hide | 25 comments              \n",
      "      \n",
      "                \n",
      "      23.      Show HN: FBP editor for music/vfx with [three, tone, tensorflow].js nodes (kousun12.github.io)\n",
      "        33 points by kousun12 10 hours ago  | hide | 13 comments              \n",
      "      \n",
      "                \n",
      "      24.      On whether changes in bedroom CO2 levels affect sleep quality (gwern.net)\n",
      "        458 points by pizza 17 hours ago  | hide | 230 comments              \n",
      "      \n",
      "                \n",
      "      25.      TiDB open sources its MySQL/MariaDB compatible data migration tool (github.com)\n",
      "        54 points by ceohockey60 10 hours ago  | hide | 16 comments              \n",
      "      \n",
      "                \n",
      "      26.      Rules of Play (wikipedia.org)\n",
      "        26 points by gekkostate 5 hours ago  | hide | 5 comments              \n",
      "      \n",
      "                \n",
      "      27.      Infinite Repeating Dashed Lines in SVG (maxmin.io)\n",
      "        26 points by gk1 6 hours ago  | hide | 3 comments              \n",
      "      \n",
      "                \n",
      "      28.      Objective-Smalltalk: now serving its own web site (objective.st)\n",
      "        44 points by mpweiher 9 hours ago  | hide | 19 comments              \n",
      "      \n",
      "                \n",
      "      29.      Ask HN: What are must know concepts for back end development?\n",
      "        325 points by chrisdsaldivar 15 hours ago  | hide | 81 comments              \n",
      "      \n",
      "                \n",
      "      30.      What I learned from reading over 100 weight loss studies (intentapp.com)\n",
      "        91 points by willsun 9 hours ago  | hide | 115 comments              \n",
      "      \n",
      "            More\n",
      "  \n",
      "\n",
      "Guidelines\n",
      "        | FAQ\n",
      "        | Support\n",
      "        | API\n",
      "        | Security\n",
      "        | Lists\n",
      "        | Bookmarklet\n",
      "        | Legal\n",
      "        | Apply to YC\n",
      "        | ContactSearch:\n",
      "          \n",
      "            \n",
      "      \n",
      "  \n",
      "\n"
     ]
    }
   ],
   "source": [
    "from bs4 import BeautifulSoup\n",
    "\n",
    "# Remove HTML tags using Beautiful Soup library\n",
    "soup = BeautifulSoup(r.text, \"html5lib\")\n",
    "print(soup.get_text())"
   ]
  },
  {
   "cell_type": "code",
   "execution_count": 11,
   "metadata": {
    "scrolled": true
   },
   "outputs": [
    {
     "data": {
      "text/plain": [
       "<tr class=\"athing\" id=\"18965274\">\n",
       "      <td align=\"right\" class=\"title\" valign=\"top\"><span class=\"rank\">1.</span></td>      <td class=\"votelinks\" valign=\"top\"><center><a href=\"vote?id=18965274&amp;how=up&amp;goto=news\" id=\"up_18965274\"><div class=\"votearrow\" title=\"upvote\"></div></a></center></td><td class=\"title\"><a class=\"storylink\" href=\"https://www.hillelwayne.com/post/why-dont-people-use-formal-methods/\">Why Don't People Use Formal Methods?</a><span class=\"sitebit comhead\"> (<a href=\"from?site=hillelwayne.com\"><span class=\"sitestr\">hillelwayne.com</span></a>)</span></td></tr>"
      ]
     },
     "execution_count": 11,
     "metadata": {},
     "output_type": "execute_result"
    }
   ],
   "source": [
    "# Find all articles\n",
    "summaries = soup.find_all(\"tr\", class_=\"athing\")\n",
    "summaries[0]"
   ]
  },
  {
   "cell_type": "code",
   "execution_count": 12,
   "metadata": {},
   "outputs": [
    {
     "data": {
      "text/plain": [
       "\"Why Don't People Use Formal Methods?\""
      ]
     },
     "execution_count": 12,
     "metadata": {},
     "output_type": "execute_result"
    }
   ],
   "source": [
    "# Extract title\n",
    "summaries[0].find(\"a\", class_=\"storylink\").get_text().strip()"
   ]
  },
  {
   "cell_type": "code",
   "execution_count": 13,
   "metadata": {},
   "outputs": [
    {
     "name": "stdout",
     "output_type": "stream",
     "text": [
      "30 Article summaries found. Sample:\n",
      "Why Don't People Use Formal Methods?\n"
     ]
    }
   ],
   "source": [
    "# Find all articles, extract titles\n",
    "articles = []\n",
    "summaries = soup.find_all(\"tr\", class_=\"athing\")\n",
    "for summary in summaries:\n",
    "    title = summary.find(\"a\", class_=\"storylink\").get_text().strip()\n",
    "    articles.append((title))\n",
    "\n",
    "print(len(articles), \"Article summaries found. Sample:\")\n",
    "print(articles[0])"
   ]
  },
  {
   "cell_type": "markdown",
   "metadata": {
    "collapsed": true
   },
   "source": [
    "## Normalization"
   ]
  },
  {
   "cell_type": "markdown",
   "metadata": {},
   "source": [
    "### Case Normalization"
   ]
  },
  {
   "cell_type": "code",
   "execution_count": 14,
   "metadata": {},
   "outputs": [
    {
     "name": "stdout",
     "output_type": "stream",
     "text": [
      "The first time you see The Second Renaissance it may look boring. Look at it at least twice and definitely watch part 2. It will change your view of the matrix. Are the human people the ones who started the war ? Is AI a bad thing ?\n"
     ]
    }
   ],
   "source": [
    "# Sample text\n",
    "text = \"The first time you see The Second Renaissance it may look boring. Look at it at least twice and definitely watch part 2. It will change your view of the matrix. Are the human people the ones who started the war ? Is AI a bad thing ?\"\n",
    "print(text)"
   ]
  },
  {
   "cell_type": "code",
   "execution_count": 15,
   "metadata": {},
   "outputs": [
    {
     "name": "stdout",
     "output_type": "stream",
     "text": [
      "the first time you see the second renaissance it may look boring. look at it at least twice and definitely watch part 2. it will change your view of the matrix. are the human people the ones who started the war ? is ai a bad thing ?\n"
     ]
    }
   ],
   "source": [
    "# Convert to lowercase\n",
    "text = text.lower() \n",
    "print(text)"
   ]
  },
  {
   "cell_type": "markdown",
   "metadata": {},
   "source": [
    "### Punctuation Removal"
   ]
  },
  {
   "cell_type": "code",
   "execution_count": 16,
   "metadata": {},
   "outputs": [
    {
     "name": "stdout",
     "output_type": "stream",
     "text": [
      "the first time you see the second renaissance it may look boring  look at it at least twice and definitely watch part 2  it will change your view of the matrix  are the human people the ones who started the war   is ai a bad thing  \n"
     ]
    }
   ],
   "source": [
    "import re\n",
    "\n",
    "# Remove punctuation characters\n",
    "text = re.sub(r\"[^a-zA-Z0-9]\", \" \", text) \n",
    "print(text)"
   ]
  },
  {
   "cell_type": "markdown",
   "metadata": {},
   "source": [
    "## Tokenization"
   ]
  },
  {
   "cell_type": "code",
   "execution_count": 17,
   "metadata": {},
   "outputs": [
    {
     "name": "stdout",
     "output_type": "stream",
     "text": [
      "['the', 'first', 'time', 'you', 'see', 'the', 'second', 'renaissance', 'it', 'may', 'look', 'boring', 'look', 'at', 'it', 'at', 'least', 'twice', 'and', 'definitely', 'watch', 'part', '2', 'it', 'will', 'change', 'your', 'view', 'of', 'the', 'matrix', 'are', 'the', 'human', 'people', 'the', 'ones', 'who', 'started', 'the', 'war', 'is', 'ai', 'a', 'bad', 'thing']\n"
     ]
    }
   ],
   "source": [
    "# Split text into tokens (words)\n",
    "words = text.split()\n",
    "print(words)"
   ]
  },
  {
   "cell_type": "markdown",
   "metadata": {},
   "source": [
    "### NLTK: Natural Language ToolKit"
   ]
  },
  {
   "cell_type": "code",
   "execution_count": 18,
   "metadata": {},
   "outputs": [],
   "source": [
    "import os\n",
    "import nltk\n",
    "nltk.data.path.append(os.path.join(os.getcwd(), \"nltk_data\"))"
   ]
  },
  {
   "cell_type": "code",
   "execution_count": 19,
   "metadata": {},
   "outputs": [
    {
     "name": "stdout",
     "output_type": "stream",
     "text": [
      "Dr. Smith graduated from the University of Washington. He later started an analytics firm called Lux, which catered to enterprise customers.\n"
     ]
    }
   ],
   "source": [
    "# Another sample text\n",
    "text = \"Dr. Smith graduated from the University of Washington. He later started an analytics firm called Lux, which catered to enterprise customers.\"\n",
    "print(text)"
   ]
  },
  {
   "cell_type": "code",
   "execution_count": 20,
   "metadata": {},
   "outputs": [
    {
     "name": "stdout",
     "output_type": "stream",
     "text": [
      "['Dr.', 'Smith', 'graduated', 'from', 'the', 'University', 'of', 'Washington', '.', 'He', 'later', 'started', 'an', 'analytics', 'firm', 'called', 'Lux', ',', 'which', 'catered', 'to', 'enterprise', 'customers', '.']\n"
     ]
    }
   ],
   "source": [
    "from nltk.tokenize import word_tokenize\n",
    "\n",
    "# Split text into words using NLTK\n",
    "words = word_tokenize(text)\n",
    "print(words)"
   ]
  },
  {
   "cell_type": "code",
   "execution_count": 21,
   "metadata": {},
   "outputs": [
    {
     "name": "stdout",
     "output_type": "stream",
     "text": [
      "['Dr. Smith graduated from the University of Washington.', 'He later started an analytics firm called Lux, which catered to enterprise customers.']\n"
     ]
    }
   ],
   "source": [
    "from nltk.tokenize import sent_tokenize\n",
    "\n",
    "# Split text into sentences\n",
    "sentences = sent_tokenize(text)\n",
    "print(sentences)"
   ]
  },
  {
   "cell_type": "code",
   "execution_count": 22,
   "metadata": {},
   "outputs": [
    {
     "name": "stdout",
     "output_type": "stream",
     "text": [
      "['i', 'me', 'my', 'myself', 'we', 'our', 'ours', 'ourselves', 'you', \"you're\", \"you've\", \"you'll\", \"you'd\", 'your', 'yours', 'yourself', 'yourselves', 'he', 'him', 'his', 'himself', 'she', \"she's\", 'her', 'hers', 'herself', 'it', \"it's\", 'its', 'itself', 'they', 'them', 'their', 'theirs', 'themselves', 'what', 'which', 'who', 'whom', 'this', 'that', \"that'll\", 'these', 'those', 'am', 'is', 'are', 'was', 'were', 'be', 'been', 'being', 'have', 'has', 'had', 'having', 'do', 'does', 'did', 'doing', 'a', 'an', 'the', 'and', 'but', 'if', 'or', 'because', 'as', 'until', 'while', 'of', 'at', 'by', 'for', 'with', 'about', 'against', 'between', 'into', 'through', 'during', 'before', 'after', 'above', 'below', 'to', 'from', 'up', 'down', 'in', 'out', 'on', 'off', 'over', 'under', 'again', 'further', 'then', 'once', 'here', 'there', 'when', 'where', 'why', 'how', 'all', 'any', 'both', 'each', 'few', 'more', 'most', 'other', 'some', 'such', 'no', 'nor', 'not', 'only', 'own', 'same', 'so', 'than', 'too', 'very', 's', 't', 'can', 'will', 'just', 'don', \"don't\", 'should', \"should've\", 'now', 'd', 'll', 'm', 'o', 're', 've', 'y', 'ain', 'aren', \"aren't\", 'couldn', \"couldn't\", 'didn', \"didn't\", 'doesn', \"doesn't\", 'hadn', \"hadn't\", 'hasn', \"hasn't\", 'haven', \"haven't\", 'isn', \"isn't\", 'ma', 'mightn', \"mightn't\", 'mustn', \"mustn't\", 'needn', \"needn't\", 'shan', \"shan't\", 'shouldn', \"shouldn't\", 'wasn', \"wasn't\", 'weren', \"weren't\", 'won', \"won't\", 'wouldn', \"wouldn't\"]\n"
     ]
    }
   ],
   "source": [
    "# List stop words\n",
    "from nltk.corpus import stopwords\n",
    "print(stopwords.words(\"english\"))"
   ]
  },
  {
   "cell_type": "code",
   "execution_count": 23,
   "metadata": {},
   "outputs": [
    {
     "name": "stdout",
     "output_type": "stream",
     "text": [
      "['the', 'first', 'time', 'you', 'see', 'the', 'second', 'renaissance', 'it', 'may', 'look', 'boring', 'look', 'at', 'it', 'at', 'least', 'twice', 'and', 'definitely', 'watch', 'part', '2', 'it', 'will', 'change', 'your', 'view', 'of', 'the', 'matrix', 'are', 'the', 'human', 'people', 'the', 'ones', 'who', 'started', 'the', 'war', 'is', 'ai', 'a', 'bad', 'thing']\n"
     ]
    }
   ],
   "source": [
    "# Reset text\n",
    "text = \"The first time you see The Second Renaissance it may look boring. Look at it at least twice and definitely watch part 2. It will change your view of the matrix. Are the human people the ones who started the war ? Is AI a bad thing ?\"\n",
    "\n",
    "# Normalize it\n",
    "text = re.sub(r\"[^a-zA-Z0-9]\", \" \", text.lower())\n",
    "\n",
    "# Tokenize it\n",
    "words = text.split()\n",
    "print(words)"
   ]
  },
  {
   "cell_type": "code",
   "execution_count": 24,
   "metadata": {},
   "outputs": [
    {
     "name": "stdout",
     "output_type": "stream",
     "text": [
      "['first', 'time', 'see', 'second', 'renaissance', 'may', 'look', 'boring', 'look', 'least', 'twice', 'definitely', 'watch', 'part', '2', 'change', 'view', 'matrix', 'human', 'people', 'ones', 'started', 'war', 'ai', 'bad', 'thing']\n"
     ]
    }
   ],
   "source": [
    "# Remove stop words\n",
    "words = [w for w in words if w not in stopwords.words(\"english\")]\n",
    "print(words)"
   ]
  },
  {
   "cell_type": "markdown",
   "metadata": {},
   "source": [
    "### Sentence Parsing"
   ]
  },
  {
   "cell_type": "code",
   "execution_count": 25,
   "metadata": {},
   "outputs": [
    {
     "name": "stdout",
     "output_type": "stream",
     "text": [
      "(S\n",
      "  (NP I)\n",
      "  (VP\n",
      "    (VP (V shot) (NP (Det an) (N elephant)))\n",
      "    (PP (P in) (NP (Det my) (N pajamas)))))\n",
      "(S\n",
      "  (NP I)\n",
      "  (VP\n",
      "    (V shot)\n",
      "    (NP (Det an) (N elephant) (PP (P in) (NP (Det my) (N pajamas))))))\n"
     ]
    }
   ],
   "source": [
    "import nltk\n",
    "\n",
    "# Define a custom grammar\n",
    "my_grammar = nltk.CFG.fromstring(\"\"\"\n",
    "S -> NP VP\n",
    "PP -> P NP\n",
    "NP -> Det N | Det N PP | 'I'\n",
    "VP -> V NP | VP PP\n",
    "Det -> 'an' | 'my'\n",
    "N -> 'elephant' | 'pajamas'\n",
    "V -> 'shot'\n",
    "P -> 'in'\n",
    "\"\"\")\n",
    "parser = nltk.ChartParser(my_grammar)\n",
    "\n",
    "# Parse a sentence\n",
    "sentence = word_tokenize(\"I shot an elephant in my pajamas\")\n",
    "for tree in parser.parse(sentence):\n",
    "    print(tree)"
   ]
  },
  {
   "cell_type": "markdown",
   "metadata": {},
   "source": [
    "## Stemming & Lemmatization\n",
    "\n",
    "### Stemming"
   ]
  },
  {
   "cell_type": "code",
   "execution_count": 26,
   "metadata": {},
   "outputs": [
    {
     "name": "stdout",
     "output_type": "stream",
     "text": [
      "['first', 'time', 'see', 'second', 'renaiss', 'may', 'look', 'bore', 'look', 'least', 'twice', 'definit', 'watch', 'part', '2', 'chang', 'view', 'matrix', 'human', 'peopl', 'one', 'start', 'war', 'ai', 'bad', 'thing']\n"
     ]
    }
   ],
   "source": [
    "from nltk.stem.porter import PorterStemmer\n",
    "\n",
    "# Reduce words to their stems\n",
    "stemmed = [PorterStemmer().stem(w) for w in words]\n",
    "print(stemmed)"
   ]
  },
  {
   "cell_type": "markdown",
   "metadata": {},
   "source": [
    "### Lemmatization"
   ]
  },
  {
   "cell_type": "code",
   "execution_count": 27,
   "metadata": {},
   "outputs": [
    {
     "name": "stdout",
     "output_type": "stream",
     "text": [
      "['first', 'time', 'see', 'second', 'renaissance', 'may', 'look', 'boring', 'look', 'least', 'twice', 'definitely', 'watch', 'part', '2', 'change', 'view', 'matrix', 'human', 'people', 'one', 'started', 'war', 'ai', 'bad', 'thing']\n"
     ]
    }
   ],
   "source": [
    "from nltk.stem.wordnet import WordNetLemmatizer\n",
    "\n",
    "# Reduce words to their root form\n",
    "lemmed = [WordNetLemmatizer().lemmatize(w) for w in words]\n",
    "print(lemmed)"
   ]
  },
  {
   "cell_type": "code",
   "execution_count": 28,
   "metadata": {},
   "outputs": [
    {
     "name": "stdout",
     "output_type": "stream",
     "text": [
      "['first', 'time', 'see', 'second', 'renaissance', 'may', 'look', 'bore', 'look', 'least', 'twice', 'definitely', 'watch', 'part', '2', 'change', 'view', 'matrix', 'human', 'people', 'one', 'start', 'war', 'ai', 'bad', 'thing']\n"
     ]
    }
   ],
   "source": [
    "# Lemmatize verbs by specifying pos\n",
    "lemmed = [WordNetLemmatizer().lemmatize(w, pos='v') for w in lemmed]\n",
    "print(lemmed)"
   ]
  },
  {
   "cell_type": "code",
   "execution_count": null,
   "metadata": {},
   "outputs": [],
   "source": []
  },
  {
   "cell_type": "code",
   "execution_count": null,
   "metadata": {},
   "outputs": [],
   "source": []
  }
 ],
 "metadata": {
  "kernelspec": {
   "display_name": "Python 3",
   "language": "python",
   "name": "python3"
  },
  "language_info": {
   "codemirror_mode": {
    "name": "ipython",
    "version": 3
   },
   "file_extension": ".py",
   "mimetype": "text/x-python",
   "name": "python",
   "nbconvert_exporter": "python",
   "pygments_lexer": "ipython3",
   "version": "3.6.3"
  }
 },
 "nbformat": 4,
 "nbformat_minor": 2
}
